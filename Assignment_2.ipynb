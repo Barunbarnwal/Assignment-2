{
  "nbformat": 4,
  "nbformat_minor": 0,
  "metadata": {
    "colab": {
      "provenance": []
    },
    "kernelspec": {
      "name": "python3",
      "display_name": "Python 3"
    },
    "language_info": {
      "name": "python"
    }
  },
  "cells": [
    {
      "cell_type": "code",
      "execution_count": null,
      "metadata": {
        "id": "9hpq38GpkQUC"
      },
      "outputs": [],
      "source": []
    },
    {
      "cell_type": "markdown",
      "source": [
        "Theory Questions\n",
        "\n",
        "1. A function is a block of code (or statement) that performs a specific task and runs only when it is called Function. There are mainly two types of functions in Python.\n",
        "Types of Functions:\n",
        "(i) Built-in-Function:- It functions are the pre-defined function in Python that can be directly used.\n",
        "(ii) User-Defined Function:- They are not pre-defined functions.The User creates their own function to fulfil their specific needs."
      ],
      "metadata": {
        "id": "0Qt1fkUYo4L2"
      }
    },
    {
      "cell_type": "code",
      "source": [
        "def factorial(n):return 1 if (n==1 or n==0) else n * factorial(n-1)\n",
        "n=int(input(\"5\"))\n",
        "print(\"the factorial of\",n,\"is\",factorial(n))"
      ],
      "metadata": {
        "id": "-kb2vaM7s_kD"
      },
      "execution_count": null,
      "outputs": []
    },
    {
      "cell_type": "markdown",
      "source": [
        "As Python is an Object-Oriented Programming language, so it contains objects, and these objects have different properties and behavior. Methods in Python are used to defined the behavior of the python objects.\n",
        "* It facilitates code reusability by creating various methods or functions in the program.\n",
        "* It also improves readability and accessibility to a particular code block.\n",
        "* Methods creation makes it easy to debug for the programmers.\n",
        "\n",
        "Methods in Python:-\n",
        "~ Instance Method\n",
        "~ Class Method\n",
        "~ Static Method\n"
      ],
      "metadata": {
        "id": "8YxDB2davJ4I"
      }
    },
    {
      "cell_type": "code",
      "source": [
        "class Employee(object):def my_method(self):\n",
        "  print(\"I am Vikram\")"
      ],
      "metadata": {
        "id": "I62Qo2b82-lV"
      },
      "execution_count": null,
      "outputs": []
    },
    {
      "cell_type": "markdown",
      "source": [
        "Difference Between Methods & Function\n",
        "* Method definition is always present inside the class, while the class is not required to define the function.\n",
        "* Function can have a zero parameter, whereas the method should have a default parameter, either self or cls, to get the object.\n",
        "* The method operates the data in the class, while a function is used to return or pass the data.\n",
        "* A function can be directly called by its name, while a method can't be called by its name.\n",
        "* The method lies under Object-Oriented Programming, while a function is an independent functionality."
      ],
      "metadata": {
        "id": "7pDk-nN74Ajk"
      }
    },
    {
      "cell_type": "markdown",
      "source": [
        "2. A function is a block of code which only runs. You can pass data, known as parameters, into a function.A function can return data as a result.\n",
        "* Creating a Function:- In Python a function is defined using the def keyword.\n",
        "* Calling Function :- To call a function, use the function name followed by parenthesis.\n",
        "\n",
        "Information can be passed into functions as arguments.\n",
        "Arguments are specified after the function name,inside the parentheses. You can add as many arguments as you want, just separate them with a comma.\n",
        "* Number of Arguments :- A function must be called with the correct number of arguments. Meaning that if your function expects 2 arguments, you have to call the function with 2 arguments, not more and not less.\n",
        "* Arbitrary Arguments :- If ddo you not know how many arguments that will be passed into your function, add a * before the parameter name in the function definition.\n",
        "This way the function will receive a tuple of arguments, can access the items accordingly.\n",
        "* Keyword Arguments :- You can also send arguments with the key = value syntax. This way the order of the arguments does not matter.\n",
        "* Arbitrary Keyword Arguments :- If you dont know how many keyword arguments that will be passed into your function, add two asterisk : ** before the parameter name in the function definition.\n",
        "This way the function will receive a dictionary of arguments, and can access the items accordingly.\n"
      ],
      "metadata": {
        "id": "McOhG1CPC6l3"
      }
    },
    {
      "cell_type": "markdown",
      "source": [
        "3. Python Function is a block of statements that return the specific task. The idea is to put some commonly or repeatedly done tasks together and mmake a function so that instead of writing the same code again and again for different inputs, we can do the function calls to reuse code contained in it over and over again.\n",
        "Some benifits of using Functions:-\n",
        "* Increase Code Readability\n",
        "* Increase Code Reusability\n",
        "\n",
        "Types of Function in Python\n",
        "Below are the different types of functions in Python:\n",
        "* Built-in library Function:- These are Standard functions in Python that are available to use.\n",
        "* User-defined function:- We can create our own functions based on our requirements.\n",
        "\n",
        "Function in Python:-\n",
        "We can define a function in Python, using the def keyword. We can add any type of functionalities and properties to it as as we require."
      ],
      "metadata": {
        "id": "qF49Yyig10z8"
      }
    },
    {
      "cell_type": "code",
      "source": [
        "def add(num1: int, num2: int) -> int:\n",
        "  \"\"\"Add two numbers\"\"\"\n",
        "  num3= num1 + num2\n",
        "  return num3\n",
        "  num1 ==5, num2== 6\n",
        "  ans = add(num1, num2)\n",
        "  print(\"{num1}+{num2}\")"
      ],
      "metadata": {
        "id": "bm9f-VGjJTzF"
      },
      "execution_count": null,
      "outputs": []
    },
    {
      "cell_type": "markdown",
      "source": [],
      "metadata": {
        "id": "J3JWNyw7QpCG"
      }
    },
    {
      "cell_type": "markdown",
      "source": [
        "4. The Python return statement marks the end of a function and specifies the value or values to pass back from the function. Return statements can return data of any type, including integers, floats, strings, lists, dictionaries, and even other functions."
      ],
      "metadata": {
        "id": "tcC2oLsdQpg_"
      }
    },
    {
      "cell_type": "code",
      "source": [
        "def add(a,b): a + b\n",
        "def is_true(a): return bool(a)\n",
        "res = add(2,3)\n",
        "print(res)\n",
        "print(is_true(res))\n",
        "print(is_true(0))"
      ],
      "metadata": {
        "colab": {
          "base_uri": "https://localhost:8080/"
        },
        "id": "3G5pg_iaVLzO",
        "outputId": "a1ce5868-4f97-4ec8-f064-ac57d70bfe48"
      },
      "execution_count": null,
      "outputs": [
        {
          "output_type": "stream",
          "name": "stdout",
          "text": [
            "None\n",
            "False\n",
            "False\n"
          ]
        }
      ]
    },
    {
      "cell_type": "markdown",
      "source": [
        "5. In Python, an iterator is an object that provides a way to iterate through a sequence of values one at a time, while an iterable is an object that can be looped over, meaning it can be used to create an iterator; essentially, all iterators are iterables, but not all iterables are iterators.\n",
        "\n",
        "Key points about iterators and iterables:\n",
        "* Accessing elements: An iterator uses the __next__() method to return the next element in the sequence, while an iterable doesn't have this method directly but can be used to create an iterator using the iter() function.\n",
        "* Examples of iterables: Lists, tuples, strings, dictionaries, and sets are all considered iterables because you can loop through their elements using a for loop.\n",
        "* Creating an iterator: To create an iterator from an iterable, use the iter() function.\n",
        "\n",
        "Work together :-\n",
        "* When you use a for loop on an iterable, Python automatically calls the iter() function to get an iterator from that iterable.\n",
        "\n",
        "* The loop then repeatedly calls the __next__() method of the iterator to retrieve each element until it raises a StopIteration exception, indicating the end of the sequence."
      ],
      "metadata": {
        "id": "hSKf9iUpV-ak"
      }
    },
    {
      "cell_type": "markdown",
      "source": [
        "6. A generator function in Python is defined like a normal function, but whenever it needs to generate a value, it does so with the yield keyword rather than return. If the body of a def contains yield, the function automatically becomes a Python generator function."
      ],
      "metadata": {
        "id": "lwugSKCcQHEf"
      }
    },
    {
      "cell_type": "code",
      "source": [
        "# A generator function that yields 1 for first time,\n",
        "# 2 second time and 3 third time\n",
        "def simpleGeneratorFun():\n",
        "    yield 1\n",
        "    yield 2\n",
        "    yield 3\n",
        "\n",
        "# Driver code to check above generator function\n",
        "for value in simpleGeneratorFun():\n",
        "    print(value)\n"
      ],
      "metadata": {
        "colab": {
          "base_uri": "https://localhost:8080/"
        },
        "id": "-QoYSFjsQ_LE",
        "outputId": "cde54713-f6fc-4584-a35e-2c7c423bc849"
      },
      "execution_count": null,
      "outputs": [
        {
          "output_type": "stream",
          "name": "stdout",
          "text": [
            "1\n",
            "2\n",
            "3\n"
          ]
        }
      ]
    },
    {
      "cell_type": "markdown",
      "source": [
        "7. Generators have several advantages over regular functions, including:\n",
        "\n",
        "* Memory efficiency\n",
        "Generators are more memory efficient than regular functions because they only evaluate the code that's needed. Generators generate values as they're needed, so they don't need to store all the values in memory at once. This is especially useful when working with large datasets.\n",
        "\n",
        "* Improved performance\n",
        "Generators can improve performance by avoiding the need to generate and store all elements upfront. They can also be faster than regular loops.\n",
        "\n",
        "* Lazy loading\n",
        "Generators can be used to lazy load data, which means that the data is not loaded until it's actually needed.\n",
        "\n",
        "* Infinite sequences\n",
        "Generators make it easy to create infinite sequences by allowing pausing and resuming.\n",
        "\n",
        "* Composability\n",
        "Generators can be easily composed to create new generators, enabling powerful data processing pipelines.\n",
        "\n",
        "* Readability\n",
        "Generators can make your code easier to read and understand by breaking up the iteration process into smaller chunks.\n",
        "\n",
        "Here are some other differences between generator functions and regular functions:-\n",
        "\n",
        "* Yield keyword: Generator functions use the keyword yield to maintain their state.\n",
        "* Execution: Generator functions only execute when next() is called on the generator object.\n",
        "* Return statement: The return statement terminates the function completely, whereas the yield keyword saves the state of the function."
      ],
      "metadata": {
        "id": "UY0SlKk6C2uN"
      }
    },
    {
      "cell_type": "markdown",
      "source": [
        "8. In Python, a lambda function is a short, anonymous function that's defined without a name and is used for quick, one-time operations. Lambda functions are often used in functional programming contexts with higher-order functions like map, filter, and reduce.\n",
        "\n",
        "Here are some characteristics of lambda functions:-\n",
        "1. Syntax: The syntax for a lambda function is lambda parameters: expression.\n",
        "2. Arguments: Lambda functions can take any number of arguments.\n",
        "3. Expression: Lambda functions can only contain one expression.\n",
        "4. Readability: Lambda functions are more readable than regular functions because they're defined in a single line.\n",
        "5. Behavior: Lambda functions behave similarly to regular functions, which are defined with the def keyword.\n",
        "\n",
        "Here are some examples of using lambda functions:-\n",
        "\n",
        "* Squaring a number: square_number = lambda x: x ** 2\n",
        "* Filtering a list: filter(lambda x: x % 2 == 0, list1)\n",
        "* Sorting a list of dictionaries: Use a lambda function as the key argument to sort a list of dictionaries based on a key."
      ],
      "metadata": {
        "id": "Q76PJor4S94Y"
      }
    },
    {
      "cell_type": "code",
      "source": [],
      "metadata": {
        "id": "4gfyR9bsut_M"
      },
      "execution_count": null,
      "outputs": []
    },
    {
      "cell_type": "markdown",
      "source": [
        "9. The map() function in Python applies a given function to each item in an iterable (like a list, tuple, etc.) and returns an iterator containing the results.\n",
        "Purpose:\n",
        "* To efficiently transform all elements of an iterable without using explicit loops.\n",
        "* To write cleaner and more concise code.\n",
        "* Function: The function to be applied to each element.\n",
        "* Iterable: The iterable (e.g., list, tuple) whose elements are to be processed.\n",
        "* Optional additional iterables, if the function takes multiple arguments."
      ],
      "metadata": {
        "id": "Hi8D0muCg7HN"
      }
    },
    {
      "cell_type": "code",
      "source": [
        "numbers = [1, 2, 3, 4]\n",
        "\n",
        "# Square each number using a lambda function\n",
        "squared = map(lambda x: x**2, numbers)\n",
        "\n",
        "# Convert the map object to a list\n",
        "result = list(squared)\n",
        "\n",
        "print(result)"
      ],
      "metadata": {
        "colab": {
          "base_uri": "https://localhost:8080/"
        },
        "id": "0iEeVKSkhmXu",
        "outputId": "455546a5-3d34-4e9b-d663-888d4f080c44"
      },
      "execution_count": null,
      "outputs": [
        {
          "output_type": "stream",
          "name": "stdout",
          "text": [
            "[1, 4, 9, 16]\n"
          ]
        }
      ]
    },
    {
      "cell_type": "markdown",
      "source": [
        "Benefits of using map():\n",
        "* Readability: Improves code readability by abstracting the looping logic.\n",
        "* Efficiency: Can be faster than explicit loops in some cases.\n",
        "* Functional Programming: Enables a functional programming style, which emphasizes transformations over mutations."
      ],
      "metadata": {
        "id": "vnKHNqo0h24u"
      }
    },
    {
      "cell_type": "markdown",
      "source": [
        "10. In Python, map(), filter(), and reduce() are built-in functions that allow you to process iterables (like lists, tuples, etc.) in a functional programming style. Here's a breakdown of their differences:\n",
        "\n",
        "map():\n",
        "Purpose: Applies a function to each element of an iterable and returns a new iterable containing the transformed values.\n",
        "Syntax: map(function, iterable)"
      ],
      "metadata": {
        "id": "FjXAF1t5iGoo"
      }
    },
    {
      "cell_type": "code",
      "source": [
        "numbers = [1, 2, 3, 4, 5]\n",
        "squared = map(lambda x: x**2, numbers)\n",
        "print(list(squared))"
      ],
      "metadata": {
        "colab": {
          "base_uri": "https://localhost:8080/"
        },
        "id": "88siDGBiijDX",
        "outputId": "2eddd731-16b9-40ad-b341-739ea86d42fa"
      },
      "execution_count": null,
      "outputs": [
        {
          "output_type": "stream",
          "name": "stdout",
          "text": [
            "[1, 4, 9, 16, 25]\n"
          ]
        }
      ]
    },
    {
      "cell_type": "markdown",
      "source": [
        "filter():\n",
        "Purpose: Filters elements from an iterable based on a given condition and returns a new iterable containing only the elements that satisfy the condition.\n",
        "Syntax: filter(function, iterable)"
      ],
      "metadata": {
        "id": "JV7HZTlkiuRA"
      }
    },
    {
      "cell_type": "code",
      "source": [
        "numbers = [1, 2, 3, 4, 5]\n",
        "evens = filter(lambda x: x % 2 == 0, numbers)\n",
        "print(list(evens))"
      ],
      "metadata": {
        "colab": {
          "base_uri": "https://localhost:8080/"
        },
        "id": "cBvKmQppi1_K",
        "outputId": "3a35a1c1-5523-4c9d-b6fa-b709313539f2"
      },
      "execution_count": null,
      "outputs": [
        {
          "output_type": "stream",
          "name": "stdout",
          "text": [
            "[2, 4]\n"
          ]
        }
      ]
    },
    {
      "cell_type": "markdown",
      "source": [
        "reduce():\n",
        "Purpose: Applies a function to the elements of an iterable in a cumulative way, reducing them to a single value.\n",
        "Syntax: reduce(function, iterable[, initializer])\n",
        "Note: reduce() is not a built-in function in Python 3. It needs to be imported from the functools module."
      ],
      "metadata": {
        "id": "POz4lbHoi40H"
      }
    },
    {
      "cell_type": "code",
      "source": [
        "from functools import reduce\n",
        "numbers = [1, 2, 3, 4, 5]\n",
        "sum = reduce(lambda x, y: x + y, numbers)\n",
        "print(sum)"
      ],
      "metadata": {
        "colab": {
          "base_uri": "https://localhost:8080/"
        },
        "id": "af0-HsR0jAWE",
        "outputId": "01a4c961-ac90-4152-e77e-bba1d3b77d32"
      },
      "execution_count": null,
      "outputs": [
        {
          "output_type": "stream",
          "name": "stdout",
          "text": [
            "15\n"
          ]
        }
      ]
    },
    {
      "cell_type": "markdown",
      "source": [
        "Key Differences:\n",
        "Output:\n",
        "map() and filter() return iterables, while reduce() returns a single value.\n",
        "\n",
        "Function:\n",
        "map() applies a function to each element, filter() selects elements based on a condition, and reduce() combines elements using a function.\n",
        "\n",
        "Import:\n",
        "map() and filter() are built-in, while reduce() requires importing from functools."
      ],
      "metadata": {
        "id": "QNb6c9ZJjIah"
      }
    },
    {
      "cell_type": "code",
      "source": [],
      "metadata": {
        "id": "wWxmIb7vZHzt"
      },
      "execution_count": null,
      "outputs": []
    },
    {
      "cell_type": "markdown",
      "source": [
        "Practical Questions\n",
        "\n",
        "1. The following article shows how given an integer list, we can produce the sum of all its odd and even digits.\n",
        " Using loop, str() and int()\n",
        "We first convert each element to string and then iterate for each of its element, and add to respective summation by conversion to integer."
      ],
      "metadata": {
        "id": "3-wFdeFMZIij"
      }
    },
    {
      "cell_type": "code",
      "source": [
        "# initializing list\n",
        "test_list = [345, 893, 1948, 34, 2346]\n",
        "\n",
        "# printing original list\n",
        "print(\"The original list is : \" + str(test_list))\n",
        "\n",
        "odd_sum = 0\n",
        "even_sum = 0\n",
        "\n",
        "for sub in test_list:\n",
        "\tfor ele in str(sub):\n",
        "\n",
        "\t\t# adding in particular summation according to value\n",
        "\t\tif int(ele) % 2 == 0:\n",
        "\t\t\teven_sum += int(ele)\n",
        "\t\telse:\n",
        "\t\t\todd_sum += int(ele)\n",
        "\n",
        "# printing result\n",
        "print(\"Odd digit sum : \" + str(odd_sum))\n",
        "print(\"Even digit sum : \" + str(even_sum))\n"
      ],
      "metadata": {
        "id": "Swb0GUFUkMBA",
        "colab": {
          "base_uri": "https://localhost:8080/"
        },
        "outputId": "ab90ca8f-4710-458f-f289-443e7f38757f"
      },
      "execution_count": 1,
      "outputs": [
        {
          "output_type": "stream",
          "name": "stdout",
          "text": [
            "The original list is : [345, 893, 1948, 34, 2346]\n",
            "Odd digit sum : 36\n",
            "Even digit sum : 40\n"
          ]
        }
      ]
    },
    {
      "cell_type": "markdown",
      "source": [
        "Using loop and sum()\n",
        "\n",
        "In this, we perform task of getting summation using sum(), and loop is used to perform the task of iterating through each element."
      ],
      "metadata": {
        "id": "2Wnrbb4BmBzY"
      }
    },
    {
      "cell_type": "code",
      "source": [
        "# initializing list\n",
        "test_list = [345, 893, 1948, 34, 2346]\n",
        "\n",
        "# printing original list\n",
        "print(\"The original list is : \" + str(test_list))\n",
        "\n",
        "odd_sum = 0\n",
        "even_sum = 0\n",
        "\n",
        "for sub in test_list:\n",
        "\n",
        "\t# sum() used to get summation of even and odd elements\n",
        "\todd_sum += sum([int(ele) for ele in str(sub) if int(ele) % 2 == 1])\n",
        "\teven_sum += sum([int(ele) for ele in str(sub) if int(ele) % 2 == 0])\n",
        "\n",
        "# printing result\n",
        "print(\"Odd digit sum : \" + str(odd_sum))\n",
        "print(\"Even digit sum : \" + str(even_sum))\n"
      ],
      "metadata": {
        "colab": {
          "base_uri": "https://localhost:8080/"
        },
        "id": "it-QPBgPmDyp",
        "outputId": "0f7cdbfc-06b1-4cb8-c836-dcb7fbc22eeb"
      },
      "execution_count": 2,
      "outputs": [
        {
          "output_type": "stream",
          "name": "stdout",
          "text": [
            "The original list is : [345, 893, 1948, 34, 2346]\n",
            "Odd digit sum : 36\n",
            "Even digit sum : 40\n"
          ]
        }
      ]
    },
    {
      "cell_type": "markdown",
      "source": [
        " Using list comprehension"
      ],
      "metadata": {
        "id": "Md_-L5BNmMfb"
      }
    },
    {
      "cell_type": "code",
      "source": [
        "test_list = [345, 893, 1948, 34, 2346]\n",
        "odd_sum = 0\n",
        "even_sum = 0\n",
        "\n",
        "odd_sum += sum([int(ele)\n",
        "\t\t\t\tfor sub in test_list for ele in str(sub) if int(ele) % 2 == 1])\n",
        "even_sum += sum([int(ele)\n",
        "\t\t\t\tfor sub in test_list for ele in str(sub) if int(ele) % 2 == 0])\n",
        "\n",
        "print(\"Odd digit sum : \" + str(odd_sum))\n",
        "print(\"Even digit sum : \" + str(even_sum))\n"
      ],
      "metadata": {
        "colab": {
          "base_uri": "https://localhost:8080/"
        },
        "id": "8cDnqINzmNrZ",
        "outputId": "e9b67529-fa84-468c-a225-8fed36ee065e"
      },
      "execution_count": 3,
      "outputs": [
        {
          "output_type": "stream",
          "name": "stdout",
          "text": [
            "Odd digit sum : 36\n",
            "Even digit sum : 40\n"
          ]
        }
      ]
    },
    {
      "cell_type": "markdown",
      "source": [
        "Using the enumerate function"
      ],
      "metadata": {
        "id": "PpK9V19nmYcw"
      }
    },
    {
      "cell_type": "code",
      "source": [
        "test_list = [345, 893, 1948, 34, 2346]\n",
        "odd_sum = 0\n",
        "even_sum = 0\n",
        "\n",
        "odd_sum += sum([int(ele) for i, sub in enumerate(test_list)\n",
        "\t\t\t\tfor ele in str(sub) if int(ele) % 2 == 1])\n",
        "even_sum += sum([int(ele) for i, sub in enumerate(test_list)\n",
        "\t\t\t\tfor ele in str(sub) if int(ele) % 2 == 0])\n",
        "\n",
        "print(\"Odd digit sum : \" + str(odd_sum))\n",
        "print(\"Even digit sum : \" + str(even_sum))\n"
      ],
      "metadata": {
        "colab": {
          "base_uri": "https://localhost:8080/"
        },
        "id": "GW-80KUAmZ-7",
        "outputId": "f1d4ac52-bb93-482b-fde6-cbf0f37e7d95"
      },
      "execution_count": 4,
      "outputs": [
        {
          "output_type": "stream",
          "name": "stdout",
          "text": [
            "Odd digit sum : 36\n",
            "Even digit sum : 40\n"
          ]
        }
      ]
    },
    {
      "cell_type": "markdown",
      "source": [
        "Using recursion"
      ],
      "metadata": {
        "id": "J1nN3uX9mjTF"
      }
    },
    {
      "cell_type": "code",
      "source": [
        "def digit_sum(sub, even_sum, odd_sum):\n",
        "\tif not sub:\n",
        "\t\treturn (even_sum, odd_sum)\n",
        "\telse:\n",
        "\t\tele = sub.pop()\n",
        "\t\tif int(ele) % 2 == 0:\n",
        "\t\t\teven_sum += int(ele)\n",
        "\t\telse:\n",
        "\t\t\todd_sum += int(ele)\n",
        "\t\treturn digit_sum(sub, even_sum, odd_sum)\n",
        "\n",
        "\n",
        "test_list = [345, 893, 1948, 34, 2346]\n",
        "\n",
        "# printing original list\n",
        "print(\"The original list is : \" + str(test_list))\n",
        "\n",
        "even_sum = 0\n",
        "odd_sum = 0\n",
        "\n",
        "for sub in test_list:\n",
        "\tsub = list(str(sub))\n",
        "\teven_sum, odd_sum = digit_sum(sub, even_sum, odd_sum)\n",
        "\n",
        "# printing result\n",
        "print(\"Odd digit sum : \" + str(odd_sum))\n",
        "print(\"Even digit sum : \" + str(even_sum))"
      ],
      "metadata": {
        "colab": {
          "base_uri": "https://localhost:8080/"
        },
        "id": "YoZTVPTPmkcU",
        "outputId": "96d6554a-d421-49bb-a9c5-862686ca3d64"
      },
      "execution_count": 5,
      "outputs": [
        {
          "output_type": "stream",
          "name": "stdout",
          "text": [
            "The original list is : [345, 893, 1948, 34, 2346]\n",
            "Odd digit sum : 36\n",
            "Even digit sum : 40\n"
          ]
        }
      ]
    },
    {
      "cell_type": "markdown",
      "source": [
        "2. Reversing a string is a common task in Python, which can be done by several methods. In this article, we discuss different approaches to reversing a string. One of the simplest and most efficient ways is by using slicing. Let’s see how it works:\n",
        "\n",
        "Using string slicing\n",
        "This slicing method is one of the simplest and an efficient method to reverse a string. It is easy to remember and best suited for reverse the string quickly."
      ],
      "metadata": {
        "id": "yIdGpElGm_jY"
      }
    },
    {
      "cell_type": "code",
      "source": [
        "s = \"RamRaghuwanshi\"\n",
        "rev = s[::-1]\n",
        "print(rev)"
      ],
      "metadata": {
        "colab": {
          "base_uri": "https://localhost:8080/"
        },
        "id": "VQ-eFbpmpvgw",
        "outputId": "aa61f6b0-97af-43e9-da90-77e39475a997"
      },
      "execution_count": 7,
      "outputs": [
        {
          "output_type": "stream",
          "name": "stdout",
          "text": [
            "ihsnawuhgaRmaR\n"
          ]
        }
      ]
    },
    {
      "cell_type": "markdown",
      "source": [
        "3. List comprehensions are used for creating new lists from other iterables like tuples, strings, arrays, lists, etc. A list comprehension consists of brackets containing the expression, which is executed for each element along with the for loop to iterate over each element. Here we will use list comprehension to make a square of each odd number in a list."
      ],
      "metadata": {
        "id": "5DQpWUDMp7wM"
      }
    },
    {
      "cell_type": "code",
      "source": [
        "# create a list with 7 integer elements\n",
        "data=[1,2,3,4,5,6,7]\n",
        "\n",
        "# use list comprehension to get square\n",
        "# of odd numbers\n",
        "result = [i*i for i in data if i%2!=0]\n",
        "\n",
        "# display the result\n",
        "print(result)\n"
      ],
      "metadata": {
        "colab": {
          "base_uri": "https://localhost:8080/"
        },
        "id": "Sp0HVQ2_sdqs",
        "outputId": "34428213-0fab-4ca6-d902-9905023b8c51"
      },
      "execution_count": 8,
      "outputs": [
        {
          "output_type": "stream",
          "name": "stdout",
          "text": [
            "[1, 9, 25, 49]\n"
          ]
        }
      ]
    },
    {
      "cell_type": "markdown",
      "source": [],
      "metadata": {
        "id": "bLi3_EFWsiMr"
      }
    },
    {
      "cell_type": "code",
      "source": [
        "# create a list with 7 integer elements\n",
        "data=[11,23,13,3,1,3,4]\n",
        "\n",
        "# use list comprehension to get square\n",
        "# of odd numbers\n",
        "result = [i*i for i in data if i%2!=0]\n",
        "\n",
        "# display the result\n",
        "print(result)\n"
      ],
      "metadata": {
        "colab": {
          "base_uri": "https://localhost:8080/"
        },
        "id": "aPDScXNasmS9",
        "outputId": "cf88d25a-7ba1-46a1-a1be-e76834e41d84"
      },
      "execution_count": 9,
      "outputs": [
        {
          "output_type": "stream",
          "name": "stdout",
          "text": [
            "[121, 529, 169, 9, 1, 9]\n"
          ]
        }
      ]
    },
    {
      "cell_type": "code",
      "source": [],
      "metadata": {
        "id": "4aHMVYaTsuc_"
      },
      "execution_count": null,
      "outputs": []
    },
    {
      "cell_type": "markdown",
      "source": [],
      "metadata": {
        "id": "j8305rzIsvDF"
      }
    },
    {
      "cell_type": "code",
      "source": [
        " 4. def is_prime(n):\n",
        "    \"\"\"Checks if a given number is prime.\"\"\"\n",
        "    if n <= 1:\n",
        "        return False\n",
        "    for i in range(2, int(n ** 0.5) + 1):\n",
        "        if n % i == 0:\n",
        "            return False\n",
        "    return True\n",
        "\n",
        "def print_primes_up_to_200():\n",
        "    \"\"\"Prints all prime numbers from 1 to 200.\"\"\"\n",
        "    for num in range(1, 201):\n",
        "        if is_prime(num):\n",
        "            print(num)\n",
        "\n",
        "print_primes_up_to_200()"
      ],
      "metadata": {
        "colab": {
          "base_uri": "https://localhost:8080/"
        },
        "id": "qf11m-rks414",
        "outputId": "c8bf9c66-ca4f-4102-82d8-b42ada29a9aa"
      },
      "execution_count": 11,
      "outputs": [
        {
          "output_type": "stream",
          "name": "stdout",
          "text": [
            "2\n",
            "3\n",
            "5\n",
            "7\n",
            "11\n",
            "13\n",
            "17\n",
            "19\n",
            "23\n",
            "29\n",
            "31\n",
            "37\n",
            "41\n",
            "43\n",
            "47\n",
            "53\n",
            "59\n",
            "61\n",
            "67\n",
            "71\n",
            "73\n",
            "79\n",
            "83\n",
            "89\n",
            "97\n",
            "101\n",
            "103\n",
            "107\n",
            "109\n",
            "113\n",
            "127\n",
            "131\n",
            "137\n",
            "139\n",
            "149\n",
            "151\n",
            "157\n",
            "163\n",
            "167\n",
            "173\n",
            "179\n",
            "181\n",
            "191\n",
            "193\n",
            "197\n",
            "199\n"
          ]
        }
      ]
    },
    {
      "cell_type": "markdown",
      "source": [],
      "metadata": {
        "id": "iI0R__t9tGlZ"
      }
    },
    {
      "cell_type": "code",
      "source": [
        "5.  class FibonacciIterator:\n",
        "    def __init__(self, max_terms):\n",
        "        self.max_terms = max_terms\n",
        "        self.count = 0\n",
        "        self.a, self.b = 0, 1\n",
        "\n",
        "    def __iter__(self):\n",
        "        return self\n",
        "\n",
        "    def __next__(self):\n",
        "        if self.count < self.max_terms:\n",
        "            result = self.a\n",
        "            self.a, self.b = self.b, self.a + self.b\n",
        "            self.count += 1\n",
        "            return result\n",
        "        else:\n",
        "            raise StopIteration\n",
        "\n",
        "# Example usage\n",
        "fib_iter = FibonacciIterator(10)\n",
        "for num in fib_iter:\n",
        "    print(num)"
      ],
      "metadata": {
        "colab": {
          "base_uri": "https://localhost:8080/"
        },
        "id": "dFZP74_PtU-x",
        "outputId": "272178b1-d4b2-4b3d-c36b-bd149c474082"
      },
      "execution_count": 12,
      "outputs": [
        {
          "output_type": "stream",
          "name": "stdout",
          "text": [
            "0\n",
            "1\n",
            "1\n",
            "2\n",
            "3\n",
            "5\n",
            "8\n",
            "13\n",
            "21\n",
            "34\n"
          ]
        }
      ]
    }
  ]
}